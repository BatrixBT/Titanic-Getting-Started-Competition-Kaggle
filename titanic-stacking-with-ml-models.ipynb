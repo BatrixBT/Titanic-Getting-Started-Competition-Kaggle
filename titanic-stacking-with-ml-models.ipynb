{
 "cells": [
  {
   "cell_type": "code",
   "execution_count": 1,
   "id": "40201f8f",
   "metadata": {
    "_cell_guid": "b1076dfc-b9ad-4769-8c92-a6c4dae69d19",
    "_uuid": "8f2839f25d086af736a60e9eeb907d3b93b6e0e5",
    "execution": {
     "iopub.execute_input": "2025-02-27T18:26:43.398763Z",
     "iopub.status.busy": "2025-02-27T18:26:43.398404Z",
     "iopub.status.idle": "2025-02-27T18:26:44.378699Z",
     "shell.execute_reply": "2025-02-27T18:26:44.377514Z"
    },
    "papermill": {
     "duration": 0.991417,
     "end_time": "2025-02-27T18:26:44.380430",
     "exception": false,
     "start_time": "2025-02-27T18:26:43.389013",
     "status": "completed"
    },
    "tags": []
   },
   "outputs": [
    {
     "name": "stdout",
     "output_type": "stream",
     "text": [
      "/kaggle/input/titanic/train.csv\n",
      "/kaggle/input/titanic/test.csv\n",
      "/kaggle/input/titanic/gender_submission.csv\n"
     ]
    }
   ],
   "source": [
    "# This Python 3 environment comes with many helpful analytics libraries installed\n",
    "# It is defined by the kaggle/python Docker image: https://github.com/kaggle/docker-python\n",
    "# For example, here's several helpful packages to load\n",
    "\n",
    "import numpy as np # linear algebra\n",
    "import pandas as pd # data processing, CSV file I/O (e.g. pd.read_csv)\n",
    "\n",
    "# Input data files are available in the read-only \"../input/\" directory\n",
    "# For example, running this (by clicking run or pressing Shift+Enter) will list all files under the input directory\n",
    "\n",
    "import os\n",
    "for dirname, _, filenames in os.walk('/kaggle/input'):\n",
    "    for filename in filenames:\n",
    "        print(os.path.join(dirname, filename))\n",
    "\n",
    "# You can write up to 20GB to the current directory (/kaggle/working/) that gets preserved as output when you create a version using \"Save & Run All\" \n",
    "# You can also write temporary files to /kaggle/temp/, but they won't be saved outside of the current session"
   ]
  },
  {
   "cell_type": "markdown",
   "id": "7b388f76",
   "metadata": {
    "papermill": {
     "duration": 0.007216,
     "end_time": "2025-02-27T18:26:44.395376",
     "exception": false,
     "start_time": "2025-02-27T18:26:44.388160",
     "status": "completed"
    },
    "tags": []
   },
   "source": [
    "# Titanic Survival Prediction Analysis\n",
    "\n",
    "This notebook aims to predict the survival of passengers on the Titanic using various machine learning techniques.\n",
    "\n",
    "In this analysis, we will begin by exploring the dataset to understand its structure and the types of features available. We will look into the distribution of key features, such as age, gender, and passenger class, and how they relate to the survival rate. \n",
    "\n",
    "Next, we will perform data preprocessing to prepare the data for modeling. This step will include handling missing values, encoding categorical variables, and scaling numerical features. \n",
    "\n",
    "We will experiment with different algorithms, including:\n",
    "\n",
    "1. **CatBoostClassifier**\n",
    "2. **XGBoostClassifier**\n",
    "3. **RandomForestClassifier**\n",
    "\n",
    "We are also going to use model stacking. This means we'll take the predictions from the other models and use them as input for a Support Vector Classifier (SVC). The SVC will be our final model, combining what each of the other models has learned to give us more accurate results.\n",
    "\n",
    "After training our models, we will evaluate their performance using accuracy metric.\n",
    "\n"
   ]
  },
  {
   "cell_type": "markdown",
   "id": "d39b4441",
   "metadata": {
    "papermill": {
     "duration": 0.007507,
     "end_time": "2025-02-27T18:26:44.411622",
     "exception": false,
     "start_time": "2025-02-27T18:26:44.404115",
     "status": "completed"
    },
    "tags": []
   },
   "source": [
    "## Import necessary libraries for data manipulation and modeling"
   ]
  },
  {
   "cell_type": "code",
   "execution_count": 2,
   "id": "2fb66fbc",
   "metadata": {
    "execution": {
     "iopub.execute_input": "2025-02-27T18:26:44.427874Z",
     "iopub.status.busy": "2025-02-27T18:26:44.427359Z",
     "iopub.status.idle": "2025-02-27T18:26:47.507207Z",
     "shell.execute_reply": "2025-02-27T18:26:47.506080Z"
    },
    "papermill": {
     "duration": 3.090116,
     "end_time": "2025-02-27T18:26:47.509181",
     "exception": false,
     "start_time": "2025-02-27T18:26:44.419065",
     "status": "completed"
    },
    "tags": []
   },
   "outputs": [],
   "source": [
    "import pandas as pd\n",
    "import numpy as np\n",
    "from sklearn.model_selection import train_test_split, KFold, RandomizedSearchCV\n",
    "from catboost import CatBoostClassifier\n",
    "from sklearn.metrics import accuracy_score\n",
    "from sklearn.pipeline import Pipeline\n",
    "from sklearn.compose import ColumnTransformer\n",
    "from sklearn.preprocessing import StandardScaler, OneHotEncoder\n",
    "from xgboost import XGBClassifier\n",
    "from sklearn.ensemble import RandomForestClassifier\n",
    "import matplotlib.pyplot as plt\n",
    "import seaborn as sns\n",
    "from sklearn.ensemble import StackingClassifier\n",
    "from sklearn.linear_model import LogisticRegression\n",
    "from sklearn.tree import DecisionTreeClassifier\n",
    "from sklearn.svm import SVC\n",
    "from sklearn.metrics import classification_report\n",
    "from sklearn.model_selection import cross_val_score"
   ]
  },
  {
   "cell_type": "markdown",
   "id": "eb116fc4",
   "metadata": {
    "papermill": {
     "duration": 0.007228,
     "end_time": "2025-02-27T18:26:47.524584",
     "exception": false,
     "start_time": "2025-02-27T18:26:47.517356",
     "status": "completed"
    },
    "tags": []
   },
   "source": [
    "## Load the Titanic dataset"
   ]
  },
  {
   "cell_type": "code",
   "execution_count": 3,
   "id": "5e2aead0",
   "metadata": {
    "execution": {
     "iopub.execute_input": "2025-02-27T18:26:47.542046Z",
     "iopub.status.busy": "2025-02-27T18:26:47.541507Z",
     "iopub.status.idle": "2025-02-27T18:26:47.660789Z",
     "shell.execute_reply": "2025-02-27T18:26:47.659660Z"
    },
    "papermill": {
     "duration": 0.130172,
     "end_time": "2025-02-27T18:26:47.662797",
     "exception": false,
     "start_time": "2025-02-27T18:26:47.532625",
     "status": "completed"
    },
    "tags": []
   },
   "outputs": [],
   "source": [
    "train_df = pd.read_csv(\"/kaggle/input/titanic/train.csv\")\n",
    "test_df = pd.read_csv(\"/kaggle/input/titanic/test.csv\")"
   ]
  },
  {
   "cell_type": "markdown",
   "id": "7ff7ea94",
   "metadata": {
    "papermill": {
     "duration": 0.007268,
     "end_time": "2025-02-27T18:26:47.677667",
     "exception": false,
     "start_time": "2025-02-27T18:26:47.670399",
     "status": "completed"
    },
    "tags": []
   },
   "source": [
    "## Data Exploration and Visualization"
   ]
  },
  {
   "cell_type": "code",
   "execution_count": 4,
   "id": "1b596339",
   "metadata": {
    "execution": {
     "iopub.execute_input": "2025-02-27T18:26:47.694358Z",
     "iopub.status.busy": "2025-02-27T18:26:47.693985Z",
     "iopub.status.idle": "2025-02-27T18:26:47.723753Z",
     "shell.execute_reply": "2025-02-27T18:26:47.722658Z"
    },
    "papermill": {
     "duration": 0.040635,
     "end_time": "2025-02-27T18:26:47.725647",
     "exception": false,
     "start_time": "2025-02-27T18:26:47.685012",
     "status": "completed"
    },
    "tags": []
   },
   "outputs": [
    {
     "data": {
      "text/html": [
       "<div>\n",
       "<style scoped>\n",
       "    .dataframe tbody tr th:only-of-type {\n",
       "        vertical-align: middle;\n",
       "    }\n",
       "\n",
       "    .dataframe tbody tr th {\n",
       "        vertical-align: top;\n",
       "    }\n",
       "\n",
       "    .dataframe thead th {\n",
       "        text-align: right;\n",
       "    }\n",
       "</style>\n",
       "<table border=\"1\" class=\"dataframe\">\n",
       "  <thead>\n",
       "    <tr style=\"text-align: right;\">\n",
       "      <th></th>\n",
       "      <th>PassengerId</th>\n",
       "      <th>Survived</th>\n",
       "      <th>Pclass</th>\n",
       "      <th>Name</th>\n",
       "      <th>Sex</th>\n",
       "      <th>Age</th>\n",
       "      <th>SibSp</th>\n",
       "      <th>Parch</th>\n",
       "      <th>Ticket</th>\n",
       "      <th>Fare</th>\n",
       "      <th>Cabin</th>\n",
       "      <th>Embarked</th>\n",
       "    </tr>\n",
       "  </thead>\n",
       "  <tbody>\n",
       "    <tr>\n",
       "      <th>0</th>\n",
       "      <td>1</td>\n",
       "      <td>0</td>\n",
       "      <td>3</td>\n",
       "      <td>Braund, Mr. Owen Harris</td>\n",
       "      <td>male</td>\n",
       "      <td>22.0</td>\n",
       "      <td>1</td>\n",
       "      <td>0</td>\n",
       "      <td>A/5 21171</td>\n",
       "      <td>7.2500</td>\n",
       "      <td>NaN</td>\n",
       "      <td>S</td>\n",
       "    </tr>\n",
       "    <tr>\n",
       "      <th>1</th>\n",
       "      <td>2</td>\n",
       "      <td>1</td>\n",
       "      <td>1</td>\n",
       "      <td>Cumings, Mrs. John Bradley (Florence Briggs Th...</td>\n",
       "      <td>female</td>\n",
       "      <td>38.0</td>\n",
       "      <td>1</td>\n",
       "      <td>0</td>\n",
       "      <td>PC 17599</td>\n",
       "      <td>71.2833</td>\n",
       "      <td>C85</td>\n",
       "      <td>C</td>\n",
       "    </tr>\n",
       "    <tr>\n",
       "      <th>2</th>\n",
       "      <td>3</td>\n",
       "      <td>1</td>\n",
       "      <td>3</td>\n",
       "      <td>Heikkinen, Miss. Laina</td>\n",
       "      <td>female</td>\n",
       "      <td>26.0</td>\n",
       "      <td>0</td>\n",
       "      <td>0</td>\n",
       "      <td>STON/O2. 3101282</td>\n",
       "      <td>7.9250</td>\n",
       "      <td>NaN</td>\n",
       "      <td>S</td>\n",
       "    </tr>\n",
       "    <tr>\n",
       "      <th>3</th>\n",
       "      <td>4</td>\n",
       "      <td>1</td>\n",
       "      <td>1</td>\n",
       "      <td>Futrelle, Mrs. Jacques Heath (Lily May Peel)</td>\n",
       "      <td>female</td>\n",
       "      <td>35.0</td>\n",
       "      <td>1</td>\n",
       "      <td>0</td>\n",
       "      <td>113803</td>\n",
       "      <td>53.1000</td>\n",
       "      <td>C123</td>\n",
       "      <td>S</td>\n",
       "    </tr>\n",
       "    <tr>\n",
       "      <th>4</th>\n",
       "      <td>5</td>\n",
       "      <td>0</td>\n",
       "      <td>3</td>\n",
       "      <td>Allen, Mr. William Henry</td>\n",
       "      <td>male</td>\n",
       "      <td>35.0</td>\n",
       "      <td>0</td>\n",
       "      <td>0</td>\n",
       "      <td>373450</td>\n",
       "      <td>8.0500</td>\n",
       "      <td>NaN</td>\n",
       "      <td>S</td>\n",
       "    </tr>\n",
       "  </tbody>\n",
       "</table>\n",
       "</div>"
      ],
      "text/plain": [
       "   PassengerId  Survived  Pclass  \\\n",
       "0            1         0       3   \n",
       "1            2         1       1   \n",
       "2            3         1       3   \n",
       "3            4         1       1   \n",
       "4            5         0       3   \n",
       "\n",
       "                                                Name     Sex   Age  SibSp  \\\n",
       "0                            Braund, Mr. Owen Harris    male  22.0      1   \n",
       "1  Cumings, Mrs. John Bradley (Florence Briggs Th...  female  38.0      1   \n",
       "2                             Heikkinen, Miss. Laina  female  26.0      0   \n",
       "3       Futrelle, Mrs. Jacques Heath (Lily May Peel)  female  35.0      1   \n",
       "4                           Allen, Mr. William Henry    male  35.0      0   \n",
       "\n",
       "   Parch            Ticket     Fare Cabin Embarked  \n",
       "0      0         A/5 21171   7.2500   NaN        S  \n",
       "1      0          PC 17599  71.2833   C85        C  \n",
       "2      0  STON/O2. 3101282   7.9250   NaN        S  \n",
       "3      0            113803  53.1000  C123        S  \n",
       "4      0            373450   8.0500   NaN        S  "
      ]
     },
     "execution_count": 4,
     "metadata": {},
     "output_type": "execute_result"
    }
   ],
   "source": [
    "train_df.head()"
   ]
  },
  {
   "cell_type": "code",
   "execution_count": 5,
   "id": "21b521c7",
   "metadata": {
    "execution": {
     "iopub.execute_input": "2025-02-27T18:26:47.742665Z",
     "iopub.status.busy": "2025-02-27T18:26:47.742321Z",
     "iopub.status.idle": "2025-02-27T18:26:47.749696Z",
     "shell.execute_reply": "2025-02-27T18:26:47.748721Z"
    },
    "papermill": {
     "duration": 0.017747,
     "end_time": "2025-02-27T18:26:47.751332",
     "exception": false,
     "start_time": "2025-02-27T18:26:47.733585",
     "status": "completed"
    },
    "tags": []
   },
   "outputs": [
    {
     "data": {
      "text/plain": [
       "PassengerId      int64\n",
       "Survived         int64\n",
       "Pclass           int64\n",
       "Name            object\n",
       "Sex             object\n",
       "Age            float64\n",
       "SibSp            int64\n",
       "Parch            int64\n",
       "Ticket          object\n",
       "Fare           float64\n",
       "Cabin           object\n",
       "Embarked        object\n",
       "dtype: object"
      ]
     },
     "execution_count": 5,
     "metadata": {},
     "output_type": "execute_result"
    }
   ],
   "source": [
    "train_df.dtypes"
   ]
  },
  {
   "cell_type": "markdown",
   "id": "ad71511b",
   "metadata": {
    "papermill": {
     "duration": 0.007957,
     "end_time": "2025-02-27T18:26:47.768054",
     "exception": false,
     "start_time": "2025-02-27T18:26:47.760097",
     "status": "completed"
    },
    "tags": []
   },
   "source": [
    "## Visualize the distribution of survivors by sex\n"
   ]
  },
  {
   "cell_type": "code",
   "execution_count": 6,
   "id": "c4c41776",
   "metadata": {
    "execution": {
     "iopub.execute_input": "2025-02-27T18:26:47.784971Z",
     "iopub.status.busy": "2025-02-27T18:26:47.784582Z",
     "iopub.status.idle": "2025-02-27T18:26:48.047241Z",
     "shell.execute_reply": "2025-02-27T18:26:48.046104Z"
    },
    "papermill": {
     "duration": 0.273354,
     "end_time": "2025-02-27T18:26:48.049207",
     "exception": false,
     "start_time": "2025-02-27T18:26:47.775853",
     "status": "completed"
    },
    "tags": []
   },
   "outputs": [
    {
     "data": {
      "image/png": "[encoded data removed]",
      "text/plain": [
       "<Figure size 640x480 with 1 Axes>"
      ]
     },
     "metadata": {},
     "output_type": "display_data"
    }
   ],
   "source": [
    "survivedBySex = train_df.groupby(\"Sex\")[\"Survived\"].sum().reset_index()\n",
    "\n",
    "\n",
    "sns.barplot(x = \"Sex\", y = \"Survived\", data = survivedBySex)\n",
    "plt.xlabel('Sex')\n",
    "plt.ylabel('Number of Survivors')\n",
    "plt.title('Number of Survivors by Sex')\n",
    "plt.show()"
   ]
  },
  {
   "cell_type": "markdown",
   "id": "70112083",
   "metadata": {
    "papermill": {
     "duration": 0.00806,
     "end_time": "2025-02-27T18:26:48.065792",
     "exception": false,
     "start_time": "2025-02-27T18:26:48.057732",
     "status": "completed"
    },
    "tags": []
   },
   "source": [
    "## Visualize the distribution of survivors by passenger class"
   ]
  },
  {
   "cell_type": "code",
   "execution_count": 7,
   "id": "0b2f21a5",
   "metadata": {
    "execution": {
     "iopub.execute_input": "2025-02-27T18:26:48.083716Z",
     "iopub.status.busy": "2025-02-27T18:26:48.083354Z",
     "iopub.status.idle": "2025-02-27T18:26:48.262840Z",
     "shell.execute_reply": "2025-02-27T18:26:48.261811Z"
    },
    "papermill": {
     "duration": 0.190529,
     "end_time": "2025-02-27T18:26:48.264556",
     "exception": false,
     "start_time": "2025-02-27T18:26:48.074027",
     "status": "completed"
    },
    "tags": []
   },
   "outputs": [
    {
     "data": {
      "image/png": "[encoded data removed]",
      "text/plain": [
       "<Figure size 640x480 with 1 Axes>"
      ]
     },
     "metadata": {},
     "output_type": "display_data"
    }
   ],
   "source": [
    "survivedByClass = train_df.groupby(\"Pclass\")[\"Survived\"].sum().reset_index()\n",
    "\n",
    "sns.barplot(x = \"Pclass\", y = \"Survived\", data = survivedByClass)\n",
    "plt.xlabel('Pclass')\n",
    "plt.ylabel('Number of Survivors')\n",
    "plt.title('Number of Survivors by Pclass')\n",
    "plt.show()"
   ]
  },
  {
   "cell_type": "markdown",
   "id": "6b27ac9c",
   "metadata": {
    "papermill": {
     "duration": 0.008605,
     "end_time": "2025-02-27T18:26:48.282099",
     "exception": false,
     "start_time": "2025-02-27T18:26:48.273494",
     "status": "completed"
    },
    "tags": []
   },
   "source": [
    "## Data Preprocessing"
   ]
  },
  {
   "cell_type": "code",
   "execution_count": 8,
   "id": "51900be5",
   "metadata": {
    "execution": {
     "iopub.execute_input": "2025-02-27T18:26:48.301133Z",
     "iopub.status.busy": "2025-02-27T18:26:48.300751Z",
     "iopub.status.idle": "2025-02-27T18:26:48.308862Z",
     "shell.execute_reply": "2025-02-27T18:26:48.307780Z"
    },
    "papermill": {
     "duration": 0.019926,
     "end_time": "2025-02-27T18:26:48.310684",
     "exception": false,
     "start_time": "2025-02-27T18:26:48.290758",
     "status": "completed"
    },
    "tags": []
   },
   "outputs": [],
   "source": [
    "train_df.drop(columns=[\"PassengerId\", \"Name\"], inplace=True)"
   ]
  },
  {
   "cell_type": "code",
   "execution_count": 9,
   "id": "d97ce213",
   "metadata": {
    "execution": {
     "iopub.execute_input": "2025-02-27T18:26:48.329407Z",
     "iopub.status.busy": "2025-02-27T18:26:48.329063Z",
     "iopub.status.idle": "2025-02-27T18:26:48.334259Z",
     "shell.execute_reply": "2025-02-27T18:26:48.333232Z"
    },
    "papermill": {
     "duration": 0.016232,
     "end_time": "2025-02-27T18:26:48.335870",
     "exception": false,
     "start_time": "2025-02-27T18:26:48.319638",
     "status": "completed"
    },
    "tags": []
   },
   "outputs": [],
   "source": [
    "test_df.drop(columns=[\"Name\"], inplace=True)"
   ]
  },
  {
   "cell_type": "code",
   "execution_count": 10,
   "id": "9f036bbd",
   "metadata": {
    "execution": {
     "iopub.execute_input": "2025-02-27T18:26:48.354630Z",
     "iopub.status.busy": "2025-02-27T18:26:48.354260Z",
     "iopub.status.idle": "2025-02-27T18:26:48.359590Z",
     "shell.execute_reply": "2025-02-27T18:26:48.358515Z"
    },
    "papermill": {
     "duration": 0.016931,
     "end_time": "2025-02-27T18:26:48.361490",
     "exception": false,
     "start_time": "2025-02-27T18:26:48.344559",
     "status": "completed"
    },
    "tags": []
   },
   "outputs": [],
   "source": [
    "X = train_df.drop(columns=[\"Survived\"])\n",
    "y = train_df[\"Survived\"]"
   ]
  },
  {
   "cell_type": "code",
   "execution_count": 11,
   "id": "7d9711df",
   "metadata": {
    "execution": {
     "iopub.execute_input": "2025-02-27T18:26:48.380415Z",
     "iopub.status.busy": "2025-02-27T18:26:48.380024Z",
     "iopub.status.idle": "2025-02-27T18:26:48.385690Z",
     "shell.execute_reply": "2025-02-27T18:26:48.384560Z"
    },
    "papermill": {
     "duration": 0.017149,
     "end_time": "2025-02-27T18:26:48.387441",
     "exception": false,
     "start_time": "2025-02-27T18:26:48.370292",
     "status": "completed"
    },
    "tags": []
   },
   "outputs": [],
   "source": [
    "numerical_features = X.select_dtypes(include=[\"int64\", \"float64\"]).columns.tolist()\n",
    "categorical_features = X.select_dtypes(include=[\"object\"]).columns.tolist()"
   ]
  },
  {
   "cell_type": "markdown",
   "id": "bd2a9ccb",
   "metadata": {
    "papermill": {
     "duration": 0.008695,
     "end_time": "2025-02-27T18:26:48.405073",
     "exception": false,
     "start_time": "2025-02-27T18:26:48.396378",
     "status": "completed"
    },
    "tags": []
   },
   "source": [
    "## Fill missing values"
   ]
  },
  {
   "cell_type": "code",
   "execution_count": 12,
   "id": "15f739a2",
   "metadata": {
    "execution": {
     "iopub.execute_input": "2025-02-27T18:26:48.423947Z",
     "iopub.status.busy": "2025-02-27T18:26:48.423538Z",
     "iopub.status.idle": "2025-02-27T18:26:48.437604Z",
     "shell.execute_reply": "2025-02-27T18:26:48.436461Z"
    },
    "papermill": {
     "duration": 0.025635,
     "end_time": "2025-02-27T18:26:48.439525",
     "exception": false,
     "start_time": "2025-02-27T18:26:48.413890",
     "status": "completed"
    },
    "tags": []
   },
   "outputs": [],
   "source": [
    "X[numerical_features] = X[numerical_features].fillna(X[numerical_features].median())\n",
    "X[categorical_features] = X[categorical_features].fillna(\"None\")"
   ]
  },
  {
   "cell_type": "code",
   "execution_count": 13,
   "id": "8fd7ca0d",
   "metadata": {
    "execution": {
     "iopub.execute_input": "2025-02-27T18:26:48.458984Z",
     "iopub.status.busy": "2025-02-27T18:26:48.458567Z",
     "iopub.status.idle": "2025-02-27T18:26:48.470582Z",
     "shell.execute_reply": "2025-02-27T18:26:48.469424Z"
    },
    "papermill": {
     "duration": 0.024228,
     "end_time": "2025-02-27T18:26:48.473120",
     "exception": false,
     "start_time": "2025-02-27T18:26:48.448892",
     "status": "completed"
    },
    "tags": []
   },
   "outputs": [],
   "source": [
    "test_df[numerical_features] = test_df[numerical_features].fillna(test_df[numerical_features].median())\n",
    "test_df[categorical_features] = test_df[categorical_features].fillna(\"None\")"
   ]
  },
  {
   "cell_type": "markdown",
   "id": "3eaa90ed",
   "metadata": {
    "papermill": {
     "duration": 0.00856,
     "end_time": "2025-02-27T18:26:48.490402",
     "exception": false,
     "start_time": "2025-02-27T18:26:48.481842",
     "status": "completed"
    },
    "tags": []
   },
   "source": [
    "## Correlation Matrix Visualization"
   ]
  },
  {
   "cell_type": "code",
   "execution_count": 14,
   "id": "14c1e6ad",
   "metadata": {
    "execution": {
     "iopub.execute_input": "2025-02-27T18:26:48.509456Z",
     "iopub.status.busy": "2025-02-27T18:26:48.509098Z",
     "iopub.status.idle": "2025-02-27T18:26:48.842703Z",
     "shell.execute_reply": "2025-02-27T18:26:48.841477Z"
    },
    "papermill": {
     "duration": 0.345396,
     "end_time": "2025-02-27T18:26:48.844498",
     "exception": false,
     "start_time": "2025-02-27T18:26:48.499102",
     "status": "completed"
    },
    "tags": []
   },
   "outputs": [
    {
     "data": {
      "image/png": "[encoded data removed]",
      "text/plain": [
       "<Figure size 1000x1000 with 2 Axes>"
      ]
     },
     "metadata": {},
     "output_type": "display_data"
    }
   ],
   "source": [
    "correlation_matrix = test_df[numerical_features].corr()\n",
    "plt.figure(figsize=(10, 10))\n",
    "\n",
    "sns.heatmap(correlation_matrix, annot=True, fmt=\".2f\", cmap='coolwarm', square=True, cbar=True)\n",
    "plt.title('Correlation Matrix')\n",
    "plt.show()"
   ]
  },
  {
   "cell_type": "code",
   "execution_count": 15,
   "id": "bae59229",
   "metadata": {
    "execution": {
     "iopub.execute_input": "2025-02-27T18:26:48.865685Z",
     "iopub.status.busy": "2025-02-27T18:26:48.865304Z",
     "iopub.status.idle": "2025-02-27T18:26:48.872713Z",
     "shell.execute_reply": "2025-02-27T18:26:48.871665Z"
    },
    "papermill": {
     "duration": 0.020419,
     "end_time": "2025-02-27T18:26:48.874618",
     "exception": false,
     "start_time": "2025-02-27T18:26:48.854199",
     "status": "completed"
    },
    "tags": []
   },
   "outputs": [],
   "source": [
    "X_train, X_test, y_train, y_test = train_test_split(X, y, test_size=0.2, random_state=42)"
   ]
  },
  {
   "cell_type": "markdown",
   "id": "6542363d",
   "metadata": {
    "papermill": {
     "duration": 0.009343,
     "end_time": "2025-02-27T18:26:48.893723",
     "exception": false,
     "start_time": "2025-02-27T18:26:48.884380",
     "status": "completed"
    },
    "tags": []
   },
   "source": [
    "## CatBoost Model "
   ]
  },
  {
   "cell_type": "code",
   "execution_count": 16,
   "id": "b22c0200",
   "metadata": {
    "execution": {
     "iopub.execute_input": "2025-02-27T18:26:48.915605Z",
     "iopub.status.busy": "2025-02-27T18:26:48.915248Z",
     "iopub.status.idle": "2025-02-27T18:26:50.971597Z",
     "shell.execute_reply": "2025-02-27T18:26:50.970379Z"
    },
    "papermill": {
     "duration": 2.069286,
     "end_time": "2025-02-27T18:26:50.973275",
     "exception": false,
     "start_time": "2025-02-27T18:26:48.903989",
     "status": "completed"
    },
    "tags": []
   },
   "outputs": [
    {
     "name": "stdout",
     "output_type": "stream",
     "text": [
      "CatBoost Accuracy: 0.8101\n"
     ]
    }
   ],
   "source": [
    "catboost_model = CatBoostClassifier(\n",
    "    iterations=1000,\n",
    "    learning_rate=0.01,\n",
    "    depth=4,\n",
    "    l2_leaf_reg=1,\n",
    "    cat_features=categorical_features,\n",
    "    verbose=0\n",
    ")\n",
    "\n",
    "catboost_model.fit(X_train, y_train)\n",
    "y_pred = catboost_model.predict(X_test)\n",
    "print(f\"CatBoost Accuracy: {accuracy_score(y_test, y_pred):.4f}\")"
   ]
  },
  {
   "cell_type": "markdown",
   "id": "a0b76c4b",
   "metadata": {
    "papermill": {
     "duration": 0.009483,
     "end_time": "2025-02-27T18:26:50.992446",
     "exception": false,
     "start_time": "2025-02-27T18:26:50.982963",
     "status": "completed"
    },
    "tags": []
   },
   "source": [
    "### Feature Importance Analysis"
   ]
  },
  {
   "cell_type": "code",
   "execution_count": 17,
   "id": "94cad094",
   "metadata": {
    "execution": {
     "iopub.execute_input": "2025-02-27T18:26:51.013009Z",
     "iopub.status.busy": "2025-02-27T18:26:51.012630Z",
     "iopub.status.idle": "2025-02-27T18:26:51.023732Z",
     "shell.execute_reply": "2025-02-27T18:26:51.022505Z"
    },
    "papermill": {
     "duration": 0.023349,
     "end_time": "2025-02-27T18:26:51.025492",
     "exception": false,
     "start_time": "2025-02-27T18:26:51.002143",
     "status": "completed"
    },
    "tags": []
   },
   "outputs": [
    {
     "name": "stdout",
     "output_type": "stream",
     "text": [
      "    Feature  Importance\n",
      "1       Sex   34.514918\n",
      "2       Age   14.611875\n",
      "5    Ticket   12.898859\n",
      "0    Pclass   10.699514\n",
      "6      Fare    8.520676\n",
      "7     Cabin    7.579465\n",
      "8  Embarked    6.702363\n",
      "3     SibSp    3.198532\n",
      "4     Parch    1.273797\n"
     ]
    }
   ],
   "source": [
    "feature_importances = catboost_model.get_feature_importance()\n",
    "feature_names = catboost_model.feature_names_\n",
    "\n",
    "importance_df = pd.DataFrame({\n",
    "    'Feature': feature_names,\n",
    "    'Importance': feature_importances\n",
    "}).sort_values(by='Importance', ascending=False)\n",
    "\n",
    "print(importance_df)"
   ]
  },
  {
   "cell_type": "markdown",
   "id": "d9a723de",
   "metadata": {
    "papermill": {
     "duration": 0.009213,
     "end_time": "2025-02-27T18:26:51.044504",
     "exception": false,
     "start_time": "2025-02-27T18:26:51.035291",
     "status": "completed"
    },
    "tags": []
   },
   "source": [
    "## Random Forest Model "
   ]
  },
  {
   "cell_type": "code",
   "execution_count": 18,
   "id": "32354c88",
   "metadata": {
    "execution": {
     "iopub.execute_input": "2025-02-27T18:26:51.064725Z",
     "iopub.status.busy": "2025-02-27T18:26:51.064389Z",
     "iopub.status.idle": "2025-02-27T18:26:51.068436Z",
     "shell.execute_reply": "2025-02-27T18:26:51.067491Z"
    },
    "papermill": {
     "duration": 0.01629,
     "end_time": "2025-02-27T18:26:51.070179",
     "exception": false,
     "start_time": "2025-02-27T18:26:51.053889",
     "status": "completed"
    },
    "tags": []
   },
   "outputs": [],
   "source": [
    "rf_clf = RandomForestClassifier(random_state=42)"
   ]
  },
  {
   "cell_type": "code",
   "execution_count": 19,
   "id": "fc3199e4",
   "metadata": {
    "execution": {
     "iopub.execute_input": "2025-02-27T18:26:51.090866Z",
     "iopub.status.busy": "2025-02-27T18:26:51.090534Z",
     "iopub.status.idle": "2025-02-27T18:26:51.094927Z",
     "shell.execute_reply": "2025-02-27T18:26:51.093967Z"
    },
    "papermill": {
     "duration": 0.016591,
     "end_time": "2025-02-27T18:26:51.096527",
     "exception": false,
     "start_time": "2025-02-27T18:26:51.079936",
     "status": "completed"
    },
    "tags": []
   },
   "outputs": [],
   "source": [
    "preprocessor = ColumnTransformer(\n",
    "    transformers=[\n",
    "        (\"num\", StandardScaler(), numerical_features),\n",
    "        (\"cat\", OneHotEncoder(handle_unknown=\"ignore\"), categorical_features),\n",
    "    ]\n",
    ")"
   ]
  },
  {
   "cell_type": "code",
   "execution_count": 20,
   "id": "07c2eec5",
   "metadata": {
    "execution": {
     "iopub.execute_input": "2025-02-27T18:26:51.118168Z",
     "iopub.status.busy": "2025-02-27T18:26:51.117780Z",
     "iopub.status.idle": "2025-02-27T18:26:51.121993Z",
     "shell.execute_reply": "2025-02-27T18:26:51.120971Z"
    },
    "papermill": {
     "duration": 0.016642,
     "end_time": "2025-02-27T18:26:51.123638",
     "exception": false,
     "start_time": "2025-02-27T18:26:51.106996",
     "status": "completed"
    },
    "tags": []
   },
   "outputs": [],
   "source": [
    "rf_pipeline = Pipeline([\n",
    "    (\"preprocessor\", preprocessor),\n",
    "    (\"classifier\", rf_clf)\n",
    "])"
   ]
  },
  {
   "cell_type": "code",
   "execution_count": 21,
   "id": "a8ea32a8",
   "metadata": {
    "execution": {
     "iopub.execute_input": "2025-02-27T18:26:51.145117Z",
     "iopub.status.busy": "2025-02-27T18:26:51.144701Z",
     "iopub.status.idle": "2025-02-27T18:27:02.670812Z",
     "shell.execute_reply": "2025-02-27T18:27:02.669599Z"
    },
    "papermill": {
     "duration": 11.539156,
     "end_time": "2025-02-27T18:27:02.672726",
     "exception": false,
     "start_time": "2025-02-27T18:26:51.133570",
     "status": "completed"
    },
    "tags": []
   },
   "outputs": [
    {
     "name": "stdout",
     "output_type": "stream",
     "text": [
      "Best Random Forest Params: {'classifier__n_estimators': 200, 'classifier__min_samples_split': 2, 'classifier__min_samples_leaf': 1, 'classifier__max_depth': None, 'classifier__bootstrap': True}\n",
      "Best RF Accuracy: 0.8338836231247253\n"
     ]
    }
   ],
   "source": [
    "rf_param_distributions = {\n",
    "    \"classifier__n_estimators\": [100, 200, 300],\n",
    "    \"classifier__max_depth\": [10, 20, None],\n",
    "    \"classifier__min_samples_split\": [2, 5, 10],\n",
    "    \"classifier__min_samples_leaf\": [1, 2, 4],\n",
    "    \"classifier__bootstrap\": [True, False],\n",
    "}\n",
    "\n",
    "rf_search = RandomizedSearchCV(\n",
    "    rf_pipeline, rf_param_distributions, n_iter=10, cv=5,\n",
    "    scoring=\"accuracy\", random_state=42, n_jobs=-1\n",
    ")\n",
    "\n",
    "rf_search.fit(X, y)\n",
    "\n",
    "print(f\"Best Random Forest Params: {rf_search.best_params_}\")\n",
    "print(f\"Best RF Accuracy: {rf_search.best_score_}\")"
   ]
  },
  {
   "cell_type": "markdown",
   "id": "8718ebfa",
   "metadata": {
    "papermill": {
     "duration": 0.009416,
     "end_time": "2025-02-27T18:27:02.692166",
     "exception": false,
     "start_time": "2025-02-27T18:27:02.682750",
     "status": "completed"
    },
    "tags": []
   },
   "source": [
    "## XGBoost Model "
   ]
  },
  {
   "cell_type": "code",
   "execution_count": 22,
   "id": "f0dca930",
   "metadata": {
    "execution": {
     "iopub.execute_input": "2025-02-27T18:27:02.713061Z",
     "iopub.status.busy": "2025-02-27T18:27:02.712651Z",
     "iopub.status.idle": "2025-02-27T18:27:02.717535Z",
     "shell.execute_reply": "2025-02-27T18:27:02.716450Z"
    },
    "papermill": {
     "duration": 0.017354,
     "end_time": "2025-02-27T18:27:02.719303",
     "exception": false,
     "start_time": "2025-02-27T18:27:02.701949",
     "status": "completed"
    },
    "tags": []
   },
   "outputs": [],
   "source": [
    "xgb_clf = XGBClassifier(objective=\"binary:logistic\", random_state=42)"
   ]
  },
  {
   "cell_type": "code",
   "execution_count": 23,
   "id": "5486b984",
   "metadata": {
    "execution": {
     "iopub.execute_input": "2025-02-27T18:27:02.740704Z",
     "iopub.status.busy": "2025-02-27T18:27:02.740362Z",
     "iopub.status.idle": "2025-02-27T18:27:02.744546Z",
     "shell.execute_reply": "2025-02-27T18:27:02.743604Z"
    },
    "papermill": {
     "duration": 0.016818,
     "end_time": "2025-02-27T18:27:02.746117",
     "exception": false,
     "start_time": "2025-02-27T18:27:02.729299",
     "status": "completed"
    },
    "tags": []
   },
   "outputs": [],
   "source": [
    "xgb_pipeline = Pipeline([\n",
    "    (\"preprocessor\", preprocessor),\n",
    "    (\"classifier\", xgb_clf)\n",
    "])"
   ]
  },
  {
   "cell_type": "code",
   "execution_count": 24,
   "id": "5aa9f799",
   "metadata": {
    "execution": {
     "iopub.execute_input": "2025-02-27T18:27:02.767154Z",
     "iopub.status.busy": "2025-02-27T18:27:02.766734Z",
     "iopub.status.idle": "2025-02-27T18:27:11.979188Z",
     "shell.execute_reply": "2025-02-27T18:27:11.978026Z"
    },
    "papermill": {
     "duration": 9.224865,
     "end_time": "2025-02-27T18:27:11.981052",
     "exception": false,
     "start_time": "2025-02-27T18:27:02.756187",
     "status": "completed"
    },
    "tags": []
   },
   "outputs": [
    {
     "name": "stdout",
     "output_type": "stream",
     "text": [
      "Fitting 5 folds for each of 10 candidates, totalling 50 fits\n",
      "Best XGBoost Params: {'classifier__subsample': 1.0, 'classifier__n_estimators': 500, 'classifier__max_depth': 5, 'classifier__learning_rate': 0.05, 'classifier__colsample_bytree': 1.0}\n",
      "Best XGB Accuracy: 0.8361559224154165\n"
     ]
    }
   ],
   "source": [
    "xgb_param_grid = {\n",
    "    \"classifier__n_estimators\": [100, 200, 500],\n",
    "    \"classifier__learning_rate\": [0.01, 0.05, 0.1],\n",
    "    \"classifier__max_depth\": [3, 5, 7],\n",
    "    \"classifier__subsample\": [0.8, 1.0],\n",
    "    \"classifier__colsample_bytree\": [0.8, 1.0]\n",
    "}\n",
    "\n",
    "xgb_search = RandomizedSearchCV(\n",
    "    xgb_pipeline, xgb_param_grid, n_iter=10, cv=5,\n",
    "    scoring=\"accuracy\", random_state=42, verbose=1, n_jobs=-1\n",
    ")\n",
    "\n",
    "xgb_search.fit(X, y)\n",
    "\n",
    "print(f\"Best XGBoost Params: {xgb_search.best_params_}\")\n",
    "print(f\"Best XGB Accuracy: {xgb_search.best_score_}\")"
   ]
  },
  {
   "cell_type": "markdown",
   "id": "79b0daee",
   "metadata": {
    "papermill": {
     "duration": 0.010382,
     "end_time": "2025-02-27T18:27:12.001740",
     "exception": false,
     "start_time": "2025-02-27T18:27:11.991358",
     "status": "completed"
    },
    "tags": []
   },
   "source": [
    "## Stacking Classifier Setup"
   ]
  },
  {
   "cell_type": "code",
   "execution_count": 25,
   "id": "145d1758",
   "metadata": {
    "execution": {
     "iopub.execute_input": "2025-02-27T18:27:12.023790Z",
     "iopub.status.busy": "2025-02-27T18:27:12.023420Z",
     "iopub.status.idle": "2025-02-27T18:27:12.028047Z",
     "shell.execute_reply": "2025-02-27T18:27:12.026826Z"
    },
    "papermill": {
     "duration": 0.017739,
     "end_time": "2025-02-27T18:27:12.029813",
     "exception": false,
     "start_time": "2025-02-27T18:27:12.012074",
     "status": "completed"
    },
    "tags": []
   },
   "outputs": [],
   "source": [
    "base_models = [\n",
    "    ('xgb', rf_search.best_estimator_),\n",
    "    ('catboost', catboost_model),\n",
    "    ('rf', xgb_search.best_estimator_)\n",
    "]"
   ]
  },
  {
   "cell_type": "code",
   "execution_count": 26,
   "id": "918af086",
   "metadata": {
    "execution": {
     "iopub.execute_input": "2025-02-27T18:27:12.051064Z",
     "iopub.status.busy": "2025-02-27T18:27:12.050681Z",
     "iopub.status.idle": "2025-02-27T18:27:12.055380Z",
     "shell.execute_reply": "2025-02-27T18:27:12.054492Z"
    },
    "papermill": {
     "duration": 0.016943,
     "end_time": "2025-02-27T18:27:12.056844",
     "exception": false,
     "start_time": "2025-02-27T18:27:12.039901",
     "status": "completed"
    },
    "tags": []
   },
   "outputs": [],
   "source": [
    "kf = KFold(n_splits=5, shuffle=True, random_state=42)\n",
    "\n",
    "meta_model = SVC(probability=True, C=0.5, kernel=\"rbf\")\n",
    "\n",
    "# Train stacking model with cross-validation\n",
    "stacking_model = StackingClassifier(estimators=base_models, final_estimator=meta_model, cv=kf)"
   ]
  },
  {
   "cell_type": "markdown",
   "id": "150b0608",
   "metadata": {
    "papermill": {
     "duration": 0.009558,
     "end_time": "2025-02-27T18:27:12.076954",
     "exception": false,
     "start_time": "2025-02-27T18:27:12.067396",
     "status": "completed"
    },
    "tags": []
   },
   "source": [
    "## Cross-Validation for Stacking Model and submission"
   ]
  },
  {
   "cell_type": "code",
   "execution_count": 27,
   "id": "9e00956f",
   "metadata": {
    "execution": {
     "iopub.execute_input": "2025-02-27T18:27:12.098320Z",
     "iopub.status.busy": "2025-02-27T18:27:12.097946Z",
     "iopub.status.idle": "2025-02-27T18:28:56.055736Z",
     "shell.execute_reply": "2025-02-27T18:28:56.054612Z"
    },
    "papermill": {
     "duration": 103.970203,
     "end_time": "2025-02-27T18:28:56.057466",
     "exception": false,
     "start_time": "2025-02-27T18:27:12.087263",
     "status": "completed"
    },
    "tags": []
   },
   "outputs": [
    {
     "name": "stdout",
     "output_type": "stream",
     "text": [
      "Stacked Model Cross-Validation Accuracy: 0.8407 ± 0.0229\n",
      "Submission file saved as 'submission.csv'\n"
     ]
    }
   ],
   "source": [
    "# Perform cross-validation\n",
    "stacking_cv_scores = cross_val_score(stacking_model, X, y, cv=kf, scoring=\"accuracy\")\n",
    "\n",
    "# Print cross-validation results\n",
    "print(f\"Stacked Model Cross-Validation Accuracy: {stacking_cv_scores.mean():.4f} ± {stacking_cv_scores.std():.4f}\")\n",
    "\n",
    "# Retrain on the full dataset\n",
    "stacking_model.fit(X, y)\n",
    "\n",
    "# Make predictions for submission\n",
    "X_submission = test_df[X.columns]\n",
    "y_pred_submission = stacking_model.predict(X_submission)\n",
    "\n",
    "\n",
    "# Create submission file\n",
    "submission = pd.DataFrame({'PassengerId': test_df['PassengerId'], 'Survived': y_pred_submission})\n",
    "submission.to_csv('submission.csv', index=False)\n",
    "print(\"Submission file saved as 'submission.csv'\")\n"
   ]
  },
  {
   "cell_type": "code",
   "execution_count": 28,
   "id": "66474f51",
   "metadata": {
    "execution": {
     "iopub.execute_input": "2025-02-27T18:28:56.078946Z",
     "iopub.status.busy": "2025-02-27T18:28:56.078589Z",
     "iopub.status.idle": "2025-02-27T18:28:56.088646Z",
     "shell.execute_reply": "2025-02-27T18:28:56.087553Z"
    },
    "papermill": {
     "duration": 0.022397,
     "end_time": "2025-02-27T18:28:56.090193",
     "exception": false,
     "start_time": "2025-02-27T18:28:56.067796",
     "status": "completed"
    },
    "tags": []
   },
   "outputs": [
    {
     "data": {
      "text/html": [
       "<div>\n",
       "<style scoped>\n",
       "    .dataframe tbody tr th:only-of-type {\n",
       "        vertical-align: middle;\n",
       "    }\n",
       "\n",
       "    .dataframe tbody tr th {\n",
       "        vertical-align: top;\n",
       "    }\n",
       "\n",
       "    .dataframe thead th {\n",
       "        text-align: right;\n",
       "    }\n",
       "</style>\n",
       "<table border=\"1\" class=\"dataframe\">\n",
       "  <thead>\n",
       "    <tr style=\"text-align: right;\">\n",
       "      <th></th>\n",
       "      <th>PassengerId</th>\n",
       "      <th>Survived</th>\n",
       "    </tr>\n",
       "  </thead>\n",
       "  <tbody>\n",
       "    <tr>\n",
       "      <th>0</th>\n",
       "      <td>892</td>\n",
       "      <td>0</td>\n",
       "    </tr>\n",
       "    <tr>\n",
       "      <th>1</th>\n",
       "      <td>893</td>\n",
       "      <td>0</td>\n",
       "    </tr>\n",
       "    <tr>\n",
       "      <th>2</th>\n",
       "      <td>894</td>\n",
       "      <td>0</td>\n",
       "    </tr>\n",
       "    <tr>\n",
       "      <th>3</th>\n",
       "      <td>895</td>\n",
       "      <td>0</td>\n",
       "    </tr>\n",
       "    <tr>\n",
       "      <th>4</th>\n",
       "      <td>896</td>\n",
       "      <td>1</td>\n",
       "    </tr>\n",
       "    <tr>\n",
       "      <th>...</th>\n",
       "      <td>...</td>\n",
       "      <td>...</td>\n",
       "    </tr>\n",
       "    <tr>\n",
       "      <th>413</th>\n",
       "      <td>1305</td>\n",
       "      <td>0</td>\n",
       "    </tr>\n",
       "    <tr>\n",
       "      <th>414</th>\n",
       "      <td>1306</td>\n",
       "      <td>1</td>\n",
       "    </tr>\n",
       "    <tr>\n",
       "      <th>415</th>\n",
       "      <td>1307</td>\n",
       "      <td>0</td>\n",
       "    </tr>\n",
       "    <tr>\n",
       "      <th>416</th>\n",
       "      <td>1308</td>\n",
       "      <td>0</td>\n",
       "    </tr>\n",
       "    <tr>\n",
       "      <th>417</th>\n",
       "      <td>1309</td>\n",
       "      <td>0</td>\n",
       "    </tr>\n",
       "  </tbody>\n",
       "</table>\n",
       "<p>418 rows × 2 columns</p>\n",
       "</div>"
      ],
      "text/plain": [
       "     PassengerId  Survived\n",
       "0            892         0\n",
       "1            893         0\n",
       "2            894         0\n",
       "3            895         0\n",
       "4            896         1\n",
       "..           ...       ...\n",
       "413         1305         0\n",
       "414         1306         1\n",
       "415         1307         0\n",
       "416         1308         0\n",
       "417         1309         0\n",
       "\n",
       "[418 rows x 2 columns]"
      ]
     },
     "execution_count": 28,
     "metadata": {},
     "output_type": "execute_result"
    }
   ],
   "source": [
    "submission"
   ]
  }
 ],
 "metadata": {
  "kaggle": {
   "accelerator": "none",
   "dataSources": [
    {
     "databundleVersionId": 26502,
     "sourceId": 3136,
     "sourceType": "competition"
    }
   ],
   "dockerImageVersionId": 30886,
   "isGpuEnabled": false,
   "isInternetEnabled": true,
   "language": "python",
   "sourceType": "notebook"
  },
  "kernelspec": {
   "display_name": "Python 3",
   "language": "python",
   "name": "python3"
  },
  "language_info": {
   "codemirror_mode": {
    "name": "ipython",
    "version": 3
   },
   "file_extension": ".py",
   "mimetype": "text/x-python",
   "name": "python",
   "nbconvert_exporter": "python",
   "pygments_lexer": "ipython3",
   "version": "3.10.12"
  },
  "papermill": {
   "default_parameters": {},
   "duration": 136.502221,
   "end_time": "2025-02-27T18:28:56.922174",
   "environment_variables": {},
   "exception": null,
   "input_path": "__notebook__.ipynb",
   "output_path": "__notebook__.ipynb",
   "parameters": {},
   "start_time": "2025-02-27T18:26:40.419953",
   "version": "2.6.0"
  }
 },
 "nbformat": 4,
 "nbformat_minor": 5
}
